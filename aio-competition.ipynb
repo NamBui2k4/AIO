{
 "cells": [
  {
   "cell_type": "code",
   "execution_count": null,
   "metadata": {
    "execution": {
     "iopub.execute_input": "2025-03-27T00:13:56.459070Z",
     "iopub.status.busy": "2025-03-27T00:13:56.458721Z",
     "iopub.status.idle": "2025-03-27T00:14:06.545714Z",
     "shell.execute_reply": "2025-03-27T00:14:06.544650Z",
     "shell.execute_reply.started": "2025-03-27T00:13:56.459038Z"
    },
    "trusted": true
   },
   "outputs": [],
   "source": [
    "!pip install torch torchvision\n",
    "!pip install tqdm\n",
    "!pip install tensorboard\n",
    "\n",
    "fdlsjkfsdlkgjlkfdjgklfdjlkfdjklfdjklfjdkl"
   ]
  },
  {
   "cell_type": "code",
   "execution_count": null,
   "metadata": {
    "execution": {
     "iopub.execute_input": "2025-03-27T00:14:06.554611Z",
     "iopub.status.busy": "2025-03-27T00:14:06.554389Z",
     "iopub.status.idle": "2025-03-27T00:14:06.575557Z",
     "shell.execute_reply": "2025-03-27T00:14:06.574895Z",
     "shell.execute_reply.started": "2025-03-27T00:14:06.554590Z"
    },
    "trusted": true
   },
   "outputs": [],
   "source": [
    "import os.path\n",
    "import torch\n",
    "import torch.nn as nn\n",
    "import torch.optim as optim\n",
    "from torch.utils.tensorboard import SummaryWriter\n",
    "from torchvision.datasets import ImageFolder\n",
    "from tqdm import tqdm\n",
    "from torch.utils.data import DataLoader\n",
    "from sklearn.metrics import accuracy_score, confusion_matrix, precision_score, recall_score, f1_score\n",
    "import numpy as np\n",
    "from torchvision.models import resnet18, ResNet18_Weights, vgg11 , VGG11_Weights, resnet50, ResNet50_Weights,  mobilenet_v2, MobileNet_V2_Weights\n",
    "from torchvision.transforms import (Compose,\n",
    "                                    RandomResizedCrop,\n",
    "                                    RandomHorizontalFlip,\n",
    "                                    ToTensor,\n",
    "                                    Normalize,\n",
    "                                    Resize,\n",
    "                                    CenterCrop\n",
    "                                    )\n",
    "from sklearn.metrics import roc_curve, auc\n",
    "import argparse\n",
    "import shutil\n",
    "import warnings\n",
    "warnings.filterwarnings(\"ignore\")"
   ]
  },
  {
   "cell_type": "markdown",
   "metadata": {},
   "source": [
    "# Hyper parameter"
   ]
  },
  {
   "cell_type": "markdown",
   "metadata": {},
   "source": [
    "Các hyper parameter mặc định cho việc train. Trong đó có một vài cái là đường dẫn file kaggle"
   ]
  },
  {
   "cell_type": "code",
   "execution_count": null,
   "metadata": {
    "execution": {
     "iopub.execute_input": "2025-03-27T00:14:08.007699Z",
     "iopub.status.busy": "2025-03-27T00:14:08.007469Z",
     "iopub.status.idle": "2025-03-27T00:14:08.013078Z",
     "shell.execute_reply": "2025-03-27T00:14:08.012179Z",
     "shell.execute_reply.started": "2025-03-27T00:14:08.007679Z"
    },
    "trusted": true
   },
   "outputs": [],
   "source": [
    "def parse_arg():\n",
    "    parse = argparse.ArgumentParser(description='Transfer learning')\n",
    "    parse.add_argument('--epochs', '-e', type=int, default=100, help='Số lượng epoch để chạy')\n",
    "    parse.add_argument('--checkpoint-dir', '-d', type=str, default='/kaggle/working/checkpoint', help='Nơi lưu checkpoint - weght của model')\n",
    "    parse.add_argument('--tensorboard', '-t', type=str, default='/kaggle/working/dashboad', help='Nơi lưu file .event trực quan hóa')\n",
    "    parse.add_argument('--lr', '-l', type=float, default=1e-3)\n",
    "    parse.add_argument('--EarlyStopping','-s',type=int, default=70, help='Early stopping càng lớn thì train được càng nhiều')\n",
    "    parse.add_argument('--batch-size','-b',type=int, default=16, help='Kích thước mỗi batch cho vào mô hình')\n",
    "    args, unknown = parse.parse_known_args()\n",
    "    return args\n"
   ]
  },
  {
   "cell_type": "markdown",
   "metadata": {},
   "source": [
    "# Create DataLoader"
   ]
  },
  {
   "cell_type": "markdown",
   "metadata": {},
   "source": [
    "Tiền xử lý dữ liệu bằng data loader"
   ]
  },
  {
   "cell_type": "code",
   "execution_count": null,
   "metadata": {
    "execution": {
     "iopub.execute_input": "2025-03-27T03:02:53.125205Z",
     "iopub.status.busy": "2025-03-27T03:02:53.124919Z",
     "iopub.status.idle": "2025-03-27T03:02:53.129870Z",
     "shell.execute_reply": "2025-03-27T03:02:53.129040Z",
     "shell.execute_reply.started": "2025-03-27T03:02:53.125183Z"
    },
    "trusted": true
   },
   "outputs": [],
   "source": [
    "# Đường dẫn tới dataset trên kaggle (tùy chỉnh trước khi chạy)\n",
    "temp_val = '/kaggle/working/train'\n",
    "temp_train = '/kaggle/working/val'\n",
    "\n",
    "def preprocessing():\n",
    "    transforms = Compose([\n",
    "            RandomResizedCrop(224),\n",
    "            RandomHorizontalFlip(),\n",
    "            ToTensor(),\n",
    "            Normalize([0.574, 0.574, 0.574], [0.169, 0.169, 0.169])\n",
    "        ]), \n",
    "\n",
    "    dataset = ImageFolder(root=temp_train, transform=transforms)\n",
    "    data_loader = DataLoader(\n",
    "        dataset=dataset,\n",
    "        batch_size=16,\n",
    "        shuffle=True,\n",
    "        num_workers=4,\n",
    "        drop_last=True\n",
    "    )\n",
    "\n",
    "    return data_loader\n"
   ]
  },
  {
   "cell_type": "markdown",
   "metadata": {},
   "source": [
    "# Function for evaluation"
   ]
  },
  {
   "cell_type": "markdown",
   "metadata": {},
   "source": [
    "Đánh giá mô hình bằng metrics accuracy khi cần thiết"
   ]
  },
  {
   "cell_type": "code",
   "execution_count": null,
   "metadata": {
    "execution": {
     "iopub.execute_input": "2025-03-27T03:02:56.476914Z",
     "iopub.status.busy": "2025-03-27T03:02:56.476582Z",
     "iopub.status.idle": "2025-03-27T03:02:56.481736Z",
     "shell.execute_reply": "2025-03-27T03:02:56.480991Z",
     "shell.execute_reply.started": "2025-03-27T03:02:56.476886Z"
    },
    "trusted": true
   },
   "outputs": [],
   "source": [
    "def metrics_evaluations(writer, optimizer, epoch, score, metrics, name, model,\n",
    "                        model_checkpoint_path):\n",
    "    writer.add_scalar(tag=f'{name}/val', scalar_value=score, global_step=epoch)\n",
    "\n",
    "    # show kết quả\n",
    "\n",
    "    checkpoint = {\n",
    "        'state': model.state_dict(),\n",
    "        'epoch': epoch,\n",
    "        'optimizer': optimizer.state_dict(),\n",
    "        'best_epoch': metrics['best_epoch'],\n",
    "        f'best_{name}': metrics[f'best_{name}']\n",
    "    }    \n",
    "    \n",
    "    if metrics[f'best_{name}'] < score:\n",
    "        metrics[f'best_{name}'] = score\n",
    "        metrics[f'best_epoch'] = epoch\n",
    "        torch.save(checkpoint, model_checkpoint_path + '/' + f'best_{name}.pt')\n",
    "\n"
   ]
  },
  {
   "cell_type": "markdown",
   "metadata": {},
   "source": [
    "# Transfer learning"
   ]
  },
  {
   "cell_type": "markdown",
   "metadata": {},
   "source": [
    "**Tái huấn luyện mô hình**"
   ]
  },
  {
   "cell_type": "code",
   "execution_count": null,
   "metadata": {
    "trusted": true
   },
   "outputs": [],
   "source": [
    "\n",
    "def transfer_learning(model, model_name, classes, criterion, optimizer, parse, data_loader):\n",
    "    \n",
    "    device = torch.device(\"cuda\" if torch.cuda.is_available() else \"cpu\")\n",
    "    model.to(device)\n",
    "    metrics = {\n",
    "                'best_accuracy' : -999,\n",
    "                'best_epoch' : 0\n",
    "    }\n",
    "    \n",
    "    for epoch in range(parse.epochs):\n",
    "        print('-' * 10)\n",
    "        print(f'Epoch {epoch + 1}/{parse.epochs}')\n",
    "\n",
    "        # training\n",
    "        model.train()\n",
    "        loss_recorded = []\n",
    "        all_pred = []\n",
    "        all_labels = []\n",
    "\n",
    "        progress_bar = tqdm(train_loader, colour='yellow')\n",
    "        for iter, (images, labels) in enumerate(progress_bar):\n",
    "            images = images.to(device)\n",
    "            labels = labels.to(device)\n",
    "\n",
    "            # foward\n",
    "            pred = model(images)\n",
    "            max_pred = torch.argmax(pred, dim=1)\n",
    "            loss = criterion(pred, labels)\n",
    "\n",
    "            # backward\n",
    "            optimizer.zero_grad()\n",
    "            loss.backward() \n",
    "            optimizer.step() \n",
    "\n",
    "            # ghi nhận loss\n",
    "            all_labels.extend(labels.tolist())\n",
    "            all_pred.extend(max_pred.tolist())\n",
    "            loss_recorded.append(loss.item())\n",
    "\n",
    "            progress_bar.set_description(f'Train/Batch {iter}, Loss: {loss.item():.4f}')\n",
    "            writer.add_scalar(tag='Train/Loss', scalar_value=np.mean(loss_recorded),\n",
    "                              global_step=epoch * len(train_loader) + iter)\n",
    "\n",
    "        # numerical metrics\n",
    "        acc = accuracy_score(all_labels, all_pred)\n",
    "        writer.add_scalar(tag='Train/Accuracy', scalar_value=acc,\n",
    "                          global_step=epoch * len(train_loader) + iter)\n",
    "        print(f'Acc: {acc:.4f}, avg_oss: {np.mean(loss_recorded):.4f}')\n",
    "        if abs(metrics['best_epoch'] - epoch) >= parse.EarlyStopping:\n",
    "            break"
   ]
  },
  {
   "cell_type": "code",
   "execution_count": null,
   "metadata": {
    "execution": {
     "iopub.execute_input": "2025-03-27T00:14:20.736288Z",
     "iopub.status.busy": "2025-03-27T00:14:20.735941Z",
     "iopub.status.idle": "2025-03-27T00:14:20.748460Z",
     "shell.execute_reply": "2025-03-27T00:14:20.747746Z",
     "shell.execute_reply.started": "2025-03-27T00:14:20.736259Z"
    },
    "trusted": true
   },
   "outputs": [],
   "source": [
    "data = preprocessing()\n",
    "parse = parse_arg()\n",
    "classes = ['bào ngư xám + trắng', 'linh chi trắng','nấm mỡ','Đùi gà Baby (cắt ngắn)']\n",
    "\n",
    "# criterion\n",
    "criterion = nn.CrossEntropyLoss()"
   ]
  },
  {
   "cell_type": "markdown",
   "metadata": {},
   "source": [
    "# Một vài chiến lược cải thiện mô hình bằng hyper parameters"
   ]
  },
  {
   "cell_type": "markdown",
   "metadata": {},
   "source": [
    "- Early stopping\n",
    "  + Càng nhỏ thì học càng nhanh, nhưng độ chính xác không cao\n",
    "  + Càng lớn thì độ chính xác cao nhưng mô hình học càng chậm,\n",
    "\n",
    "- learning rate\n",
    "  + Càng nhỏ thì càng tối ưu nhưng chạy chậm\n",
    "  + Càng lớn thì ngược lại\n",
    "\n",
    "- Batch size\n",
    "  + Càng nhỏ: Tiêu tốn ít RAM hơn, tổng quát hóa tốt hơn, nhưng chậm\n",
    "  + Càng lớn: Tiêu tốn nhiều RAM hơn, dễ bị overfit\n",
    "  \n",
    "- optimizer\n",
    "  + Adam\n",
    "  + SGD\n",
    "  + Adagrad\n",
    "  + momemtum\n",
    "    \n",
    "- Đổi mô hình:\n",
    "    + Mô hình càng lớn, dữ liệu càng nhỏ thì dễ bị overfiting\n",
    "\n",
    "      Giải pháp: chọn mô hình nhỏ hơn để phù hợp với dữ liệu"
   ]
  },
  {
   "cell_type": "markdown",
   "metadata": {},
   "source": [
    "# Chạy thử với mô hình mobilenet_v3_small"
   ]
  },
  {
   "cell_type": "code",
   "execution_count": null,
   "metadata": {
    "trusted": true
   },
   "outputs": [],
   "source": [
    "# --------------------------------- mobilenet_v3_small ---------------------------------\n",
    "from torchvision.models import mobilenet_v3_small, MobileNet_V3_Small_Weights\n",
    "mobilenet = mobilenet_v3_small(weights=MobileNet_V3_Small_Weights)\n",
    "mobilenet.classifier[3] = nn.Linear(in_features=1024, out_features=len(classes), bias=True)\n",
    "\n",
    "optimizer = optim.SGD(mobilenet.parameters(),momentum=0.9, lr=parse.lr, weight_decay=5e-4)\n",
    "\n",
    "transfer_learning(mobilenet,\n",
    "                    'mobilenet_v3_small',\n",
    "                    classes,\n",
    "                    criterion,\n",
    "                    optimizer,\n",
    "                    parse,\n",
    "                    train_loader,\n",
    "                    val_loader\n",
    "                    )"
   ]
  },
  {
   "cell_type": "code",
   "execution_count": null,
   "metadata": {
    "trusted": true
   },
   "outputs": [],
   "source": [
    "def predict_test():\n",
    "    pass"
   ]
  }
 ],
 "metadata": {
  "kaggle": {
   "accelerator": "none",
   "dataSources": [
    {
     "datasetId": 6888166,
     "sourceId": 11056076,
     "sourceType": "datasetVersion"
    }
   ],
   "dockerImageVersionId": 30918,
   "isGpuEnabled": false,
   "isInternetEnabled": true,
   "language": "python",
   "sourceType": "notebook"
  },
  "kernelspec": {
   "display_name": "Python 3",
   "language": "python",
   "name": "python3"
  },
  "language_info": {
   "codemirror_mode": {
    "name": "ipython",
    "version": 3
   },
   "file_extension": ".py",
   "mimetype": "text/x-python",
   "name": "python",
   "nbconvert_exporter": "python",
   "pygments_lexer": "ipython3",
   "version": "3.10.12"
  }
 },
 "nbformat": 4,
 "nbformat_minor": 4
}
